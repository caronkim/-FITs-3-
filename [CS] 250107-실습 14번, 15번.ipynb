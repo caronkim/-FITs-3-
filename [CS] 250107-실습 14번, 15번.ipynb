{
  "nbformat": 4,
  "nbformat_minor": 0,
  "metadata": {
    "colab": {
      "provenance": [],
      "authorship_tag": "ABX9TyOkLjgQNyG4IVPyXvmmXOJG",
      "include_colab_link": true
    },
    "kernelspec": {
      "name": "python3",
      "display_name": "Python 3"
    },
    "language_info": {
      "name": "python"
    }
  },
  "cells": [
    {
      "cell_type": "markdown",
      "metadata": {
        "id": "view-in-github",
        "colab_type": "text"
      },
      "source": [
        "<a href=\"https://colab.research.google.com/github/caronkim/-FITs-3-/blob/main/%5BCS%5D%20250107-%EC%8B%A4%EC%8A%B5%2014%EB%B2%88%2C%2015%EB%B2%88.ipynb\" target=\"_parent\"><img src=\"https://colab.research.google.com/assets/colab-badge.svg\" alt=\"Open In Colab\"/></a>"
      ]
    },
    {
      "cell_type": "markdown",
      "source": [
        "# 실습과제 14"
      ],
      "metadata": {
        "id": "Dy21PCZ1g2AQ"
      }
    },
    {
      "cell_type": "code",
      "execution_count": 1,
      "metadata": {
        "id": "qP5Jzh38g08m"
      },
      "outputs": [],
      "source": [
        "\"\"\"# 파이썬을 이용한 단일 연결 리스트 구현 실습\"\"\"\n",
        "\n",
        "class Node:\n",
        "    def __init__(self, data):\n",
        "        self.data = data  # 노드의 데이터\n",
        "        self.next = None  # 다음 노드를 가리키는 참조\n",
        "\n",
        "class SinglyLinkedList:\n",
        "    def __init__(self):\n",
        "        self.head = None  # 리스트의 처음은 None으로 시작\n",
        "\n",
        "    def append(self, data):\n",
        "        new_node = Node(data)\n",
        "        if not self.head:  # 리스트가 비어있다면 새로운 노드를 첫 번째 노드로 설정\n",
        "            self.head = new_node\n",
        "            return\n",
        "        last = self.head\n",
        "        while last.next:  # 마지막 노드를 찾음\n",
        "            last = last.next\n",
        "        last.next = new_node  # 마지막 노드의 다음 노드로 새 노드를 연결\n",
        "\n",
        "    def prepend(self, data):\n",
        "        new_node = Node(data)\n",
        "        new_node.next = self.head  # 새 노드는 현재 head를 가리킴\n",
        "        self.head = new_node  # head를 새 노드로 갱신\n",
        "\n",
        "    def delete(self, data):\n",
        "        temp = self.head\n",
        "        if temp and temp.data == data:  # 첫 번째 노드가 삭제할 노드인 경우\n",
        "            self.head = temp.next\n",
        "            temp = None\n",
        "            return\n",
        "\n",
        "        prev = None\n",
        "        while temp and temp.data != data:  # 삭제할 노드를 찾음\n",
        "            prev = temp\n",
        "            temp = temp.next\n",
        "\n",
        "        if temp is None:  # 해당 값이 리스트에 없으면 반환\n",
        "            return\n",
        "\n",
        "        prev.next = temp.next  # 이전 노드가 현재 노드의 다음 노드를 가리키게 함\n",
        "        temp = None\n",
        "\n",
        "    def display(self):\n",
        "        temp = self.head\n",
        "        while temp:\n",
        "            print(temp.data, end=\" -> \")\n",
        "            temp = temp.next\n",
        "        print(\"None\")"
      ]
    },
    {
      "cell_type": "markdown",
      "source": [
        "# 실습과제 15"
      ],
      "metadata": {
        "id": "Q3K-A6cChiMP"
      }
    },
    {
      "cell_type": "code",
      "source": [
        "# 사용 예시\n",
        "sll = SinglyLinkedList()\n",
        "sll.append(1)\n",
        "sll.append(2)\n",
        "sll.append(3)\n",
        "sll.prepend(0)\n",
        "sll.display()  # 0 -> 1 -> 2 -> 3 -> None\n",
        "sll.delete(2)\n",
        "sll.display()  # 0 -> 1 -> 3 -> None"
      ],
      "metadata": {
        "colab": {
          "base_uri": "https://localhost:8080/"
        },
        "id": "EG_y_ru0hko8",
        "outputId": "6f5283ba-9832-4580-a9b2-9fa7f34363dd"
      },
      "execution_count": 2,
      "outputs": [
        {
          "output_type": "stream",
          "name": "stdout",
          "text": [
            "0 -> 1 -> 2 -> 3 -> None\n",
            "0 -> 1 -> 3 -> None\n"
          ]
        }
      ]
    }
  ]
}